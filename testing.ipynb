{
 "cells": [
  {
   "cell_type": "code",
   "execution_count": 71,
   "metadata": {},
   "outputs": [],
   "source": [
    "import requests\n",
    "import pandas as pd\n",
    "import folium\n",
    "import plotly.express as px\n",
    "MAPBOX_API_KEY = 'pk.eyJ1IjoibW9ua3oxMSIsImEiOiJja3ZjcGpkcmNhemljMnBuemllb294Z20yIn0.LFHcV2_PcE_wc5ttNnMM1g'\n",
    "px.set_mapbox_access_token(MAPBOX_API_KEY)"
   ]
  },
  {
   "cell_type": "code",
   "execution_count": null,
   "metadata": {},
   "outputs": [],
   "source": [
    "categories_Fr = ['Introduction','Vol dans / sur véhicule à moteur','Vol de véhicule à moteur','Méfait','Vol qualifié','Infraction entraînant la mort']\n",
    "\n",
    "times_of_day = ['jour','soir','nuit']"
   ]
  },
  {
   "cell_type": "code",
   "execution_count": 39,
   "metadata": {},
   "outputs": [
    {
     "data": {
      "text/html": [
       "<div>\n",
       "<style scoped>\n",
       "    .dataframe tbody tr th:only-of-type {\n",
       "        vertical-align: middle;\n",
       "    }\n",
       "\n",
       "    .dataframe tbody tr th {\n",
       "        vertical-align: top;\n",
       "    }\n",
       "\n",
       "    .dataframe thead th {\n",
       "        text-align: right;\n",
       "    }\n",
       "</style>\n",
       "<table border=\"1\" class=\"dataframe\">\n",
       "  <thead>\n",
       "    <tr style=\"text-align: right;\">\n",
       "      <th></th>\n",
       "      <th>_id</th>\n",
       "      <th>CATEGORIE</th>\n",
       "      <th>DATE</th>\n",
       "      <th>QUART</th>\n",
       "      <th>PDQ</th>\n",
       "      <th>X</th>\n",
       "      <th>Y</th>\n",
       "      <th>LONGITUDE</th>\n",
       "      <th>LATITUDE</th>\n",
       "      <th>rank</th>\n",
       "    </tr>\n",
       "  </thead>\n",
       "  <tbody>\n",
       "    <tr>\n",
       "      <th>0</th>\n",
       "      <td>162778</td>\n",
       "      <td>Introduction</td>\n",
       "      <td>2024-01-13</td>\n",
       "      <td>nuit</td>\n",
       "      <td>20</td>\n",
       "      <td>299244.49100599</td>\n",
       "      <td>5040219.74599321</td>\n",
       "      <td>-73.57109</td>\n",
       "      <td>45.501877</td>\n",
       "      <td>0.057309</td>\n",
       "    </tr>\n",
       "    <tr>\n",
       "      <th>1</th>\n",
       "      <td>162782</td>\n",
       "      <td>Introduction</td>\n",
       "      <td>2024-01-15</td>\n",
       "      <td>nuit</td>\n",
       "      <td>7</td>\n",
       "      <td>287492.598989491</td>\n",
       "      <td>5038225.1219981</td>\n",
       "      <td>-73.721399</td>\n",
       "      <td>45.483736</td>\n",
       "      <td>0.057309</td>\n",
       "    </tr>\n",
       "    <tr>\n",
       "      <th>2</th>\n",
       "      <td>162783</td>\n",
       "      <td>Introduction</td>\n",
       "      <td>2024-01-15</td>\n",
       "      <td>jour</td>\n",
       "      <td>27</td>\n",
       "      <td>291643.014000033</td>\n",
       "      <td>5044760.53699814</td>\n",
       "      <td>-73.668482</td>\n",
       "      <td>45.542635</td>\n",
       "      <td>0.057309</td>\n",
       "    </tr>\n",
       "    <tr>\n",
       "      <th>3</th>\n",
       "      <td>162784</td>\n",
       "      <td>Introduction</td>\n",
       "      <td>2024-01-17</td>\n",
       "      <td>jour</td>\n",
       "      <td>31</td>\n",
       "      <td>294347.117997179</td>\n",
       "      <td>5043159.06499251</td>\n",
       "      <td>-73.633821</td>\n",
       "      <td>45.52827</td>\n",
       "      <td>0.057309</td>\n",
       "    </tr>\n",
       "    <tr>\n",
       "      <th>4</th>\n",
       "      <td>162793</td>\n",
       "      <td>Introduction</td>\n",
       "      <td>2024-01-19</td>\n",
       "      <td>jour</td>\n",
       "      <td>20</td>\n",
       "      <td>299244.49100599</td>\n",
       "      <td>5040219.74599321</td>\n",
       "      <td>-73.57109</td>\n",
       "      <td>45.501877</td>\n",
       "      <td>0.057309</td>\n",
       "    </tr>\n",
       "    <tr>\n",
       "      <th>...</th>\n",
       "      <td>...</td>\n",
       "      <td>...</td>\n",
       "      <td>...</td>\n",
       "      <td>...</td>\n",
       "      <td>...</td>\n",
       "      <td>...</td>\n",
       "      <td>...</td>\n",
       "      <td>...</td>\n",
       "      <td>...</td>\n",
       "      <td>...</td>\n",
       "    </tr>\n",
       "    <tr>\n",
       "      <th>1785</th>\n",
       "      <td>278831</td>\n",
       "      <td>Introduction</td>\n",
       "      <td>2024-01-14</td>\n",
       "      <td>soir</td>\n",
       "      <td>22</td>\n",
       "      <td>300466.906997352</td>\n",
       "      <td>5042151.08499503</td>\n",
       "      <td>-73.555465</td>\n",
       "      <td>45.519265</td>\n",
       "      <td>0.057309</td>\n",
       "    </tr>\n",
       "    <tr>\n",
       "      <th>1786</th>\n",
       "      <td>278832</td>\n",
       "      <td>Introduction</td>\n",
       "      <td>2024-01-16</td>\n",
       "      <td>nuit</td>\n",
       "      <td>23</td>\n",
       "      <td>302178.378996452</td>\n",
       "      <td>5045740.86799442</td>\n",
       "      <td>-73.533577</td>\n",
       "      <td>45.551576</td>\n",
       "      <td>0.057309</td>\n",
       "    </tr>\n",
       "    <tr>\n",
       "      <th>1787</th>\n",
       "      <td>278833</td>\n",
       "      <td>Introduction</td>\n",
       "      <td>2024-01-19</td>\n",
       "      <td>jour</td>\n",
       "      <td>21</td>\n",
       "      <td>300596.273991037</td>\n",
       "      <td>5040627.6990001</td>\n",
       "      <td>-73.553796</td>\n",
       "      <td>45.505558</td>\n",
       "      <td>0.057309</td>\n",
       "    </tr>\n",
       "    <tr>\n",
       "      <th>1788</th>\n",
       "      <td>278834</td>\n",
       "      <td>Introduction</td>\n",
       "      <td>2024-01-19</td>\n",
       "      <td>soir</td>\n",
       "      <td>15</td>\n",
       "      <td>298258.986002694</td>\n",
       "      <td>5036961.03799534</td>\n",
       "      <td>-73.583657</td>\n",
       "      <td>45.472545</td>\n",
       "      <td>0.057309</td>\n",
       "    </tr>\n",
       "    <tr>\n",
       "      <th>1789</th>\n",
       "      <td>278835</td>\n",
       "      <td>Introduction</td>\n",
       "      <td>2024-01-22</td>\n",
       "      <td>nuit</td>\n",
       "      <td>38</td>\n",
       "      <td>298505.72800202</td>\n",
       "      <td>5042556.14999271</td>\n",
       "      <td>-73.580573</td>\n",
       "      <td>45.522895</td>\n",
       "      <td>0.057309</td>\n",
       "    </tr>\n",
       "  </tbody>\n",
       "</table>\n",
       "<p>1790 rows × 10 columns</p>\n",
       "</div>"
      ],
      "text/plain": [
       "         _id     CATEGORIE        DATE QUART PDQ                 X  \\\n",
       "0     162778  Introduction  2024-01-13  nuit  20   299244.49100599   \n",
       "1     162782  Introduction  2024-01-15  nuit   7  287492.598989491   \n",
       "2     162783  Introduction  2024-01-15  jour  27  291643.014000033   \n",
       "3     162784  Introduction  2024-01-17  jour  31  294347.117997179   \n",
       "4     162793  Introduction  2024-01-19  jour  20   299244.49100599   \n",
       "...      ...           ...         ...   ...  ..               ...   \n",
       "1785  278831  Introduction  2024-01-14  soir  22  300466.906997352   \n",
       "1786  278832  Introduction  2024-01-16  nuit  23  302178.378996452   \n",
       "1787  278833  Introduction  2024-01-19  jour  21  300596.273991037   \n",
       "1788  278834  Introduction  2024-01-19  soir  15  298258.986002694   \n",
       "1789  278835  Introduction  2024-01-22  nuit  38   298505.72800202   \n",
       "\n",
       "                     Y   LONGITUDE   LATITUDE      rank  \n",
       "0     5040219.74599321   -73.57109  45.501877  0.057309  \n",
       "1      5038225.1219981  -73.721399  45.483736  0.057309  \n",
       "2     5044760.53699814  -73.668482  45.542635  0.057309  \n",
       "3     5043159.06499251  -73.633821   45.52827  0.057309  \n",
       "4     5040219.74599321   -73.57109  45.501877  0.057309  \n",
       "...                ...         ...        ...       ...  \n",
       "1785  5042151.08499503  -73.555465  45.519265  0.057309  \n",
       "1786  5045740.86799442  -73.533577  45.551576  0.057309  \n",
       "1787   5040627.6990001  -73.553796  45.505558  0.057309  \n",
       "1788  5036961.03799534  -73.583657  45.472545  0.057309  \n",
       "1789  5042556.14999271  -73.580573  45.522895  0.057309  \n",
       "\n",
       "[1790 rows x 10 columns]"
      ]
     },
     "execution_count": 39,
     "metadata": {},
     "output_type": "execute_result"
    }
   ],
   "source": [
    "\n",
    "url = 'https://donnees.montreal.ca/api/3/action/datastore_search?resource_id=c6f482bf-bf0f-4960-8b2f-9982c211addd&limit=100000000&q=2024-&'\n",
    "response = requests.get(url)\n",
    "d = response.json()\n",
    "df = pd.DataFrame(d['result']['records'])\n",
    "df"
   ]
  },
  {
   "cell_type": "code",
   "execution_count": 46,
   "metadata": {},
   "outputs": [],
   "source": [
    "def get_df(year,limit='100000'):\n",
    "    url = 'https://donnees.montreal.ca/api/3/action/datastore_search?resource_id=c6f482bf-bf0f-4960-8b2f-9982c211addd'\n",
    "    params = {'q':f'{year}-', 'limit':limit}\n",
    "    response = requests.get(url,params=params)\n",
    "    d = response.json()\n",
    "    df = pd.DataFrame(d['result']['records'])\n",
    "    return df"
   ]
  },
  {
   "cell_type": "code",
   "execution_count": 67,
   "metadata": {},
   "outputs": [],
   "source": [
    "def filter_df(df, categories, times_of_day):\n",
    "    df = df[df['CATEGORIE'].isin(categories)]\n",
    "    df = df[df['QUART'].isin(times_of_day)]\n",
    "    return df"
   ]
  },
  {
   "cell_type": "code",
   "execution_count": 42,
   "metadata": {},
   "outputs": [],
   "source": [
    "def preprocess_df(df):\n",
    "    df[\"LONGITUDE\"] = pd.to_numeric(df['LONGITUDE'], errors=\"coerce\")\n",
    "    df[\"LATITUDE\"] = pd.to_numeric(df['LATITUDE'], errors=\"coerce\")\n",
    "    return df.dropna()"
   ]
  },
  {
   "cell_type": "code",
   "execution_count": 80,
   "metadata": {},
   "outputs": [],
   "source": [
    "def get_map(df):\n",
    "    fig = px.scatter_mapbox(df, lat=\"LATITUDE\", lon=\"LONGITUDE\",  color=\"CATEGORIE\",\n",
    "                  color_continuous_scale=px.colors.cyclical.IceFire, size_max=5, zoom=10)\n",
    "    return fig"
   ]
  },
  {
   "cell_type": "code",
   "execution_count": 73,
   "metadata": {},
   "outputs": [],
   "source": [
    "def generate_map(year,categories,times_of_day,limit='100000'):\n",
    "    df = get_df(year,limit)\n",
    "    df = filter_df(df,categories,times_of_day)\n",
    "    df = preprocess_df(df)\n",
    "    my_map = get_map(df)\n",
    "    return my_map"
   ]
  },
  {
   "cell_type": "code",
   "execution_count": 81,
   "metadata": {},
   "outputs": [
    {
     "data": {
      "text/html": [
       "<div>\n",
       "<style scoped>\n",
       "    .dataframe tbody tr th:only-of-type {\n",
       "        vertical-align: middle;\n",
       "    }\n",
       "\n",
       "    .dataframe tbody tr th {\n",
       "        vertical-align: top;\n",
       "    }\n",
       "\n",
       "    .dataframe thead th {\n",
       "        text-align: right;\n",
       "    }\n",
       "</style>\n",
       "<table border=\"1\" class=\"dataframe\">\n",
       "  <thead>\n",
       "    <tr style=\"text-align: right;\">\n",
       "      <th></th>\n",
       "      <th>_id</th>\n",
       "      <th>CATEGORIE</th>\n",
       "      <th>DATE</th>\n",
       "      <th>QUART</th>\n",
       "      <th>PDQ</th>\n",
       "      <th>X</th>\n",
       "      <th>Y</th>\n",
       "      <th>LONGITUDE</th>\n",
       "      <th>LATITUDE</th>\n",
       "      <th>rank</th>\n",
       "    </tr>\n",
       "  </thead>\n",
       "  <tbody>\n",
       "    <tr>\n",
       "      <th>0</th>\n",
       "      <td>162778</td>\n",
       "      <td>Introduction</td>\n",
       "      <td>2024-01-13</td>\n",
       "      <td>nuit</td>\n",
       "      <td>20</td>\n",
       "      <td>299244.49100599</td>\n",
       "      <td>5040219.74599321</td>\n",
       "      <td>-73.571090</td>\n",
       "      <td>45.501877</td>\n",
       "      <td>0.057309</td>\n",
       "    </tr>\n",
       "    <tr>\n",
       "      <th>1</th>\n",
       "      <td>162782</td>\n",
       "      <td>Introduction</td>\n",
       "      <td>2024-01-15</td>\n",
       "      <td>nuit</td>\n",
       "      <td>7</td>\n",
       "      <td>287492.598989491</td>\n",
       "      <td>5038225.1219981</td>\n",
       "      <td>-73.721399</td>\n",
       "      <td>45.483736</td>\n",
       "      <td>0.057309</td>\n",
       "    </tr>\n",
       "    <tr>\n",
       "      <th>2</th>\n",
       "      <td>162783</td>\n",
       "      <td>Introduction</td>\n",
       "      <td>2024-01-15</td>\n",
       "      <td>jour</td>\n",
       "      <td>27</td>\n",
       "      <td>291643.014000033</td>\n",
       "      <td>5044760.53699814</td>\n",
       "      <td>-73.668482</td>\n",
       "      <td>45.542635</td>\n",
       "      <td>0.057309</td>\n",
       "    </tr>\n",
       "    <tr>\n",
       "      <th>3</th>\n",
       "      <td>162784</td>\n",
       "      <td>Introduction</td>\n",
       "      <td>2024-01-17</td>\n",
       "      <td>jour</td>\n",
       "      <td>31</td>\n",
       "      <td>294347.117997179</td>\n",
       "      <td>5043159.06499251</td>\n",
       "      <td>-73.633821</td>\n",
       "      <td>45.528270</td>\n",
       "      <td>0.057309</td>\n",
       "    </tr>\n",
       "    <tr>\n",
       "      <th>4</th>\n",
       "      <td>162793</td>\n",
       "      <td>Introduction</td>\n",
       "      <td>2024-01-19</td>\n",
       "      <td>jour</td>\n",
       "      <td>20</td>\n",
       "      <td>299244.49100599</td>\n",
       "      <td>5040219.74599321</td>\n",
       "      <td>-73.571090</td>\n",
       "      <td>45.501877</td>\n",
       "      <td>0.057309</td>\n",
       "    </tr>\n",
       "    <tr>\n",
       "      <th>...</th>\n",
       "      <td>...</td>\n",
       "      <td>...</td>\n",
       "      <td>...</td>\n",
       "      <td>...</td>\n",
       "      <td>...</td>\n",
       "      <td>...</td>\n",
       "      <td>...</td>\n",
       "      <td>...</td>\n",
       "      <td>...</td>\n",
       "      <td>...</td>\n",
       "    </tr>\n",
       "    <tr>\n",
       "      <th>1785</th>\n",
       "      <td>278831</td>\n",
       "      <td>Introduction</td>\n",
       "      <td>2024-01-14</td>\n",
       "      <td>soir</td>\n",
       "      <td>22</td>\n",
       "      <td>300466.906997352</td>\n",
       "      <td>5042151.08499503</td>\n",
       "      <td>-73.555465</td>\n",
       "      <td>45.519265</td>\n",
       "      <td>0.057309</td>\n",
       "    </tr>\n",
       "    <tr>\n",
       "      <th>1786</th>\n",
       "      <td>278832</td>\n",
       "      <td>Introduction</td>\n",
       "      <td>2024-01-16</td>\n",
       "      <td>nuit</td>\n",
       "      <td>23</td>\n",
       "      <td>302178.378996452</td>\n",
       "      <td>5045740.86799442</td>\n",
       "      <td>-73.533577</td>\n",
       "      <td>45.551576</td>\n",
       "      <td>0.057309</td>\n",
       "    </tr>\n",
       "    <tr>\n",
       "      <th>1787</th>\n",
       "      <td>278833</td>\n",
       "      <td>Introduction</td>\n",
       "      <td>2024-01-19</td>\n",
       "      <td>jour</td>\n",
       "      <td>21</td>\n",
       "      <td>300596.273991037</td>\n",
       "      <td>5040627.6990001</td>\n",
       "      <td>-73.553796</td>\n",
       "      <td>45.505558</td>\n",
       "      <td>0.057309</td>\n",
       "    </tr>\n",
       "    <tr>\n",
       "      <th>1788</th>\n",
       "      <td>278834</td>\n",
       "      <td>Introduction</td>\n",
       "      <td>2024-01-19</td>\n",
       "      <td>soir</td>\n",
       "      <td>15</td>\n",
       "      <td>298258.986002694</td>\n",
       "      <td>5036961.03799534</td>\n",
       "      <td>-73.583657</td>\n",
       "      <td>45.472545</td>\n",
       "      <td>0.057309</td>\n",
       "    </tr>\n",
       "    <tr>\n",
       "      <th>1789</th>\n",
       "      <td>278835</td>\n",
       "      <td>Introduction</td>\n",
       "      <td>2024-01-22</td>\n",
       "      <td>nuit</td>\n",
       "      <td>38</td>\n",
       "      <td>298505.72800202</td>\n",
       "      <td>5042556.14999271</td>\n",
       "      <td>-73.580573</td>\n",
       "      <td>45.522895</td>\n",
       "      <td>0.057309</td>\n",
       "    </tr>\n",
       "  </tbody>\n",
       "</table>\n",
       "<p>1534 rows × 10 columns</p>\n",
       "</div>"
      ],
      "text/plain": [
       "         _id     CATEGORIE        DATE QUART PDQ                 X  \\\n",
       "0     162778  Introduction  2024-01-13  nuit  20   299244.49100599   \n",
       "1     162782  Introduction  2024-01-15  nuit   7  287492.598989491   \n",
       "2     162783  Introduction  2024-01-15  jour  27  291643.014000033   \n",
       "3     162784  Introduction  2024-01-17  jour  31  294347.117997179   \n",
       "4     162793  Introduction  2024-01-19  jour  20   299244.49100599   \n",
       "...      ...           ...         ...   ...  ..               ...   \n",
       "1785  278831  Introduction  2024-01-14  soir  22  300466.906997352   \n",
       "1786  278832  Introduction  2024-01-16  nuit  23  302178.378996452   \n",
       "1787  278833  Introduction  2024-01-19  jour  21  300596.273991037   \n",
       "1788  278834  Introduction  2024-01-19  soir  15  298258.986002694   \n",
       "1789  278835  Introduction  2024-01-22  nuit  38   298505.72800202   \n",
       "\n",
       "                     Y  LONGITUDE   LATITUDE      rank  \n",
       "0     5040219.74599321 -73.571090  45.501877  0.057309  \n",
       "1      5038225.1219981 -73.721399  45.483736  0.057309  \n",
       "2     5044760.53699814 -73.668482  45.542635  0.057309  \n",
       "3     5043159.06499251 -73.633821  45.528270  0.057309  \n",
       "4     5040219.74599321 -73.571090  45.501877  0.057309  \n",
       "...                ...        ...        ...       ...  \n",
       "1785  5042151.08499503 -73.555465  45.519265  0.057309  \n",
       "1786  5045740.86799442 -73.533577  45.551576  0.057309  \n",
       "1787   5040627.6990001 -73.553796  45.505558  0.057309  \n",
       "1788  5036961.03799534 -73.583657  45.472545  0.057309  \n",
       "1789  5042556.14999271 -73.580573  45.522895  0.057309  \n",
       "\n",
       "[1534 rows x 10 columns]"
      ]
     },
     "execution_count": 81,
     "metadata": {},
     "output_type": "execute_result"
    }
   ],
   "source": [
    "categories = ['Introduction','Vol dans / sur véhicule à moteur','Vol de véhicule à moteur','Méfait','Vol qualifié','Infraction entraînant la mort']\n",
    "times_of_day = ['jour','soir','nuit']\n",
    "df = get_df(2024)\n",
    "df = preprocess_df(df)\n",
    "df"
   ]
  },
  {
   "cell_type": "code",
   "execution_count": 86,
   "metadata": {},
   "outputs": [
    {
     "name": "stderr",
     "output_type": "stream",
     "text": [
      "/home/jikael/anaconda3/envs/mchacks/lib/python3.12/site-packages/plotly/express/_core.py:2065: FutureWarning:\n",
      "\n",
      "When grouping with a length-1 list-like, you will need to pass a length-1 tuple to get_group in a future version of pandas. Pass `(name,)` instead of `name` to silence this warning.\n",
      "\n"
     ]
    },
    {
     "data": {
      "application/vnd.plotly.v1+json": {
       "config": {
        "plotlyServerURL": "https://plot.ly"
       },
       "data": [
        {
         "hovertemplate": "CATEGORIE=Introduction<br>LATITUDE=%{lat}<br>LONGITUDE=%{lon}<extra></extra>",
         "lat": [
          45.501877,
          45.483736,
          45.454577,
          45.458216,
          45.482569,
          45.546507,
          45.584789,
          45.547709,
          45.567939,
          45.436152,
          45.515419,
          45.490069,
          45.477708,
          45.540846,
          45.537054,
          45.511978,
          45.52199,
          45.438352,
          45.53058,
          45.605798,
          45.546379,
          45.519122,
          45.468791,
          45.415942,
          45.597981,
          45.509518,
          45.581831,
          45.51023,
          45.451684,
          45.570682,
          45.506906,
          45.503826,
          45.481995,
          45.532114,
          45.643226,
          45.634609,
          45.531463,
          45.483195,
          45.528486,
          45.61613,
          45.526114,
          45.501877,
          45.538284,
          45.476856,
          45.501437,
          45.521538,
          45.512794,
          45.580022,
          45.566902,
          45.554928,
          45.471827,
          45.585537,
          45.585537,
          45.579995,
          45.539251,
          45.467912,
          45.544414,
          45.449302,
          45.464621,
          45.598083,
          45.458786,
          45.553218,
          45.455547,
          45.613993,
          45.596266,
          45.545419,
          45.523449,
          45.447416,
          45.609561,
          45.569387,
          45.608358,
          45.585309,
          45.446785,
          45.573067,
          45.551576,
          45.522895
         ],
         "legendgroup": "Introduction",
         "lon": [
          -73.57109,
          -73.721399,
          -73.85293,
          -73.87069,
          -73.565886,
          -73.58625,
          -73.580531,
          -73.585181,
          -73.590117,
          -73.688548,
          -73.561341,
          -73.585775,
          -73.670831,
          -73.584242,
          -73.569236,
          -73.549533,
          -73.632612,
          -73.81989,
          -73.639763,
          -73.631487,
          -73.562331,
          -73.685928,
          -73.666411,
          -73.617591,
          -73.519328,
          -73.55732,
          -73.538998,
          -73.561691,
          -73.641001,
          -73.551701,
          -73.68879,
          -73.561759,
          -73.630662,
          -73.647379,
          -73.497547,
          -73.499855,
          -73.718958,
          -73.566684,
          -73.550962,
          -73.616772,
          -73.553138,
          -73.57109,
          -73.624468,
          -73.588016,
          -73.570086,
          -73.562127,
          -73.566276,
          -73.544835,
          -73.553305,
          -73.538224,
          -73.626244,
          -73.586453,
          -73.586453,
          -73.540241,
          -73.609989,
          -73.610963,
          -73.639955,
          -73.636797,
          -73.785504,
          -73.565691,
          -73.596117,
          -73.587867,
          -73.588583,
          -73.620921,
          -73.637677,
          -73.627222,
          -73.601087,
          -73.61024,
          -73.611558,
          -73.640792,
          -73.615141,
          -73.510916,
          -73.750443,
          -73.649577,
          -73.533577,
          -73.580573
         ],
         "marker": {
          "color": "#636efa"
         },
         "mode": "markers",
         "name": "Introduction",
         "showlegend": true,
         "subplot": "mapbox",
         "type": "scattermapbox"
        },
        {
         "hovertemplate": "CATEGORIE=Vol dans / sur véhicule à moteur<br>LATITUDE=%{lat}<br>LONGITUDE=%{lon}<extra></extra>",
         "lat": [
          45.561162,
          45.499014,
          45.509871,
          45.517247,
          45.554779,
          45.570517,
          45.503289,
          45.545344,
          45.489969,
          45.502617,
          45.463126,
          45.596022,
          45.494562,
          45.581422,
          45.603595,
          45.513949,
          45.596887,
          45.515457,
          45.500369,
          45.504886,
          45.667611
         ],
         "legendgroup": "Vol dans / sur véhicule à moteur",
         "lon": [
          -73.580932,
          -73.555173,
          -73.563823,
          -73.577146,
          -73.546852,
          -73.628497,
          -73.563446,
          -73.599515,
          -73.75725,
          -73.574217,
          -73.574608,
          -73.604342,
          -73.574405,
          -73.646251,
          -73.620244,
          -73.568795,
          -73.607457,
          -73.558931,
          -73.559986,
          -73.56999,
          -73.494369
         ],
         "marker": {
          "color": "#EF553B"
         },
         "mode": "markers",
         "name": "Vol dans / sur véhicule à moteur",
         "showlegend": true,
         "subplot": "mapbox",
         "type": "scattermapbox"
        },
        {
         "hovertemplate": "CATEGORIE=Vol de véhicule à moteur<br>LATITUDE=%{lat}<br>LONGITUDE=%{lon}<extra></extra>",
         "lat": [
          45.488176,
          45.452906,
          45.412811,
          45.44687,
          45.429638,
          45.494487,
          45.498115,
          45.492954,
          45.462264,
          45.435645,
          45.599714,
          45.406157,
          45.501203,
          45.501203,
          45.500235,
          45.498587,
          45.506977,
          45.496116,
          45.557199,
          45.463581,
          45.456239,
          45.549013,
          45.483753,
          45.539277,
          45.677468,
          45.5647,
          45.563824,
          45.514216,
          45.468386,
          45.4937,
          45.653093,
          45.476751,
          45.476751,
          45.568704,
          45.653175,
          45.531783,
          45.535168,
          45.445583,
          45.484048,
          45.506733,
          45.595359,
          45.511978,
          45.539964,
          45.552115,
          45.55222,
          45.496116,
          45.611709,
          45.607716,
          45.517682,
          45.51895,
          45.595145,
          45.503355,
          45.466019,
          45.573634,
          45.539512,
          45.449302,
          45.560059,
          45.460294,
          45.547531,
          45.574855,
          45.604557,
          45.495881,
          45.501723,
          45.555667,
          45.447917,
          45.426755,
          45.513949,
          45.532923,
          45.462079,
          45.431494,
          45.504446,
          45.445395,
          45.592325,
          45.436152,
          45.603224,
          45.452723,
          45.571358,
          45.46081,
          45.519366,
          45.489283,
          45.52822,
          45.47762,
          45.579521,
          45.493417,
          45.479889,
          45.456,
          45.581314,
          45.503431,
          45.578379,
          45.663551,
          45.520741,
          45.421878,
          45.458635,
          45.486637,
          45.547185,
          45.567377,
          45.455379,
          45.576815,
          45.530975,
          45.536027,
          45.497847,
          45.574301,
          45.568154,
          45.479102,
          45.521885
         ],
         "legendgroup": "Vol de véhicule à moteur",
         "lon": [
          -73.776883,
          -73.752229,
          -73.901991,
          -73.773652,
          -73.624677,
          -73.556569,
          -73.56724,
          -73.575742,
          -73.722671,
          -73.811294,
          -73.57842,
          -73.931315,
          -73.562063,
          -73.562063,
          -73.573378,
          -73.871376,
          -73.572107,
          -73.655396,
          -73.569679,
          -73.651109,
          -73.747285,
          -73.644731,
          -73.586511,
          -73.600218,
          -73.49677,
          -73.608744,
          -73.583451,
          -73.577045,
          -73.855841,
          -73.818997,
          -73.574714,
          -73.564645,
          -73.564645,
          -73.625962,
          -73.571001,
          -73.597787,
          -73.572449,
          -73.645069,
          -73.557942,
          -73.819984,
          -73.535795,
          -73.549533,
          -73.670147,
          -73.570077,
          -73.561537,
          -73.655396,
          -73.605342,
          -73.513926,
          -73.576731,
          -73.566545,
          -73.556266,
          -73.579486,
          -73.820916,
          -73.649093,
          -73.623728,
          -73.636797,
          -73.593283,
          -73.796778,
          -73.575251,
          -73.657369,
          -73.559837,
          -73.573135,
          -73.561632,
          -73.606676,
          -73.649448,
          -73.628933,
          -73.568795,
          -73.66736,
          -73.592468,
          -73.847945,
          -73.634049,
          -73.756293,
          -73.629645,
          -73.688548,
          -73.539045,
          -73.736393,
          -73.527989,
          -73.592569,
          -73.551799,
          -73.631457,
          -73.637541,
          -73.577771,
          -73.532027,
          -73.837451,
          -73.553129,
          -73.600468,
          -73.604444,
          -73.556543,
          -73.536464,
          -73.561384,
          -73.575872,
          -73.643185,
          -73.588304,
          -73.631079,
          -73.633505,
          -73.598331,
          -73.770273,
          -73.567431,
          -73.643116,
          -73.551097,
          -73.88259,
          -73.644577,
          -73.64583,
          -73.633324,
          -73.591883
         ],
         "marker": {
          "color": "#00cc96"
         },
         "mode": "markers",
         "name": "Vol de véhicule à moteur",
         "showlegend": true,
         "subplot": "mapbox",
         "type": "scattermapbox"
        },
        {
         "hovertemplate": "CATEGORIE=Méfait<br>LATITUDE=%{lat}<br>LONGITUDE=%{lon}<extra></extra>",
         "lat": [
          45.477362,
          45.50435,
          45.566963,
          45.591819,
          45.523378,
          45.484798,
          45.507746,
          45.54419,
          45.5098,
          45.433431,
          45.498784,
          45.571358,
          45.525462,
          45.446721,
          45.504661,
          45.517513,
          45.649716,
          45.478452,
          45.560086,
          45.458437,
          45.505244,
          45.553785,
          45.567285,
          45.505788,
          45.644512,
          45.454047,
          45.503151,
          45.49882,
          45.529664,
          45.50284,
          45.533421,
          45.447056,
          45.458903,
          45.533386,
          45.476751,
          45.512872,
          45.543159,
          45.530835,
          45.585041,
          45.575309,
          45.462097,
          45.518394
         ],
         "legendgroup": "Méfait",
         "lon": [
          -73.586436,
          -73.554507,
          -73.553475,
          -73.605375,
          -73.623268,
          -73.57617,
          -73.562649,
          -73.573365,
          -73.675563,
          -73.5971,
          -73.660701,
          -73.527989,
          -73.551756,
          -73.602425,
          -73.571081,
          -73.696587,
          -73.582421,
          -73.568876,
          -73.543406,
          -73.567415,
          -73.561989,
          -73.63127,
          -73.643745,
          -73.55446,
          -73.585094,
          -73.594344,
          -73.777031,
          -73.564719,
          -73.622681,
          -73.560706,
          -73.573537,
          -73.604495,
          -73.809037,
          -73.652947,
          -73.564645,
          -73.629187,
          -73.596666,
          -73.551099,
          -73.6157,
          -73.547656,
          -73.571425,
          -73.612845
         ],
         "marker": {
          "color": "#ab63fa"
         },
         "mode": "markers",
         "name": "Méfait",
         "showlegend": true,
         "subplot": "mapbox",
         "type": "scattermapbox"
        }
       ],
       "layout": {
        "legend": {
         "title": {
          "text": "CATEGORIE"
         },
         "tracegroupgap": 0
        },
        "mapbox": {
         "accesstoken": "pk.eyJ1IjoibW9ua3oxMSIsImEiOiJja3ZjcGpkcmNhemljMnBuemllb294Z20yIn0.LFHcV2_PcE_wc5ttNnMM1g",
         "center": {
          "lat": 45.52204239754098,
          "lon": -73.61693645081967
         },
         "domain": {
          "x": [
           0,
           1
          ],
          "y": [
           0,
           1
          ]
         },
         "zoom": 10
        },
        "margin": {
         "t": 60
        },
        "template": {
         "data": {
          "bar": [
           {
            "error_x": {
             "color": "#2a3f5f"
            },
            "error_y": {
             "color": "#2a3f5f"
            },
            "marker": {
             "line": {
              "color": "#E5ECF6",
              "width": 0.5
             },
             "pattern": {
              "fillmode": "overlay",
              "size": 10,
              "solidity": 0.2
             }
            },
            "type": "bar"
           }
          ],
          "barpolar": [
           {
            "marker": {
             "line": {
              "color": "#E5ECF6",
              "width": 0.5
             },
             "pattern": {
              "fillmode": "overlay",
              "size": 10,
              "solidity": 0.2
             }
            },
            "type": "barpolar"
           }
          ],
          "carpet": [
           {
            "aaxis": {
             "endlinecolor": "#2a3f5f",
             "gridcolor": "white",
             "linecolor": "white",
             "minorgridcolor": "white",
             "startlinecolor": "#2a3f5f"
            },
            "baxis": {
             "endlinecolor": "#2a3f5f",
             "gridcolor": "white",
             "linecolor": "white",
             "minorgridcolor": "white",
             "startlinecolor": "#2a3f5f"
            },
            "type": "carpet"
           }
          ],
          "choropleth": [
           {
            "colorbar": {
             "outlinewidth": 0,
             "ticks": ""
            },
            "type": "choropleth"
           }
          ],
          "contour": [
           {
            "colorbar": {
             "outlinewidth": 0,
             "ticks": ""
            },
            "colorscale": [
             [
              0,
              "#0d0887"
             ],
             [
              0.1111111111111111,
              "#46039f"
             ],
             [
              0.2222222222222222,
              "#7201a8"
             ],
             [
              0.3333333333333333,
              "#9c179e"
             ],
             [
              0.4444444444444444,
              "#bd3786"
             ],
             [
              0.5555555555555556,
              "#d8576b"
             ],
             [
              0.6666666666666666,
              "#ed7953"
             ],
             [
              0.7777777777777778,
              "#fb9f3a"
             ],
             [
              0.8888888888888888,
              "#fdca26"
             ],
             [
              1,
              "#f0f921"
             ]
            ],
            "type": "contour"
           }
          ],
          "contourcarpet": [
           {
            "colorbar": {
             "outlinewidth": 0,
             "ticks": ""
            },
            "type": "contourcarpet"
           }
          ],
          "heatmap": [
           {
            "colorbar": {
             "outlinewidth": 0,
             "ticks": ""
            },
            "colorscale": [
             [
              0,
              "#0d0887"
             ],
             [
              0.1111111111111111,
              "#46039f"
             ],
             [
              0.2222222222222222,
              "#7201a8"
             ],
             [
              0.3333333333333333,
              "#9c179e"
             ],
             [
              0.4444444444444444,
              "#bd3786"
             ],
             [
              0.5555555555555556,
              "#d8576b"
             ],
             [
              0.6666666666666666,
              "#ed7953"
             ],
             [
              0.7777777777777778,
              "#fb9f3a"
             ],
             [
              0.8888888888888888,
              "#fdca26"
             ],
             [
              1,
              "#f0f921"
             ]
            ],
            "type": "heatmap"
           }
          ],
          "heatmapgl": [
           {
            "colorbar": {
             "outlinewidth": 0,
             "ticks": ""
            },
            "colorscale": [
             [
              0,
              "#0d0887"
             ],
             [
              0.1111111111111111,
              "#46039f"
             ],
             [
              0.2222222222222222,
              "#7201a8"
             ],
             [
              0.3333333333333333,
              "#9c179e"
             ],
             [
              0.4444444444444444,
              "#bd3786"
             ],
             [
              0.5555555555555556,
              "#d8576b"
             ],
             [
              0.6666666666666666,
              "#ed7953"
             ],
             [
              0.7777777777777778,
              "#fb9f3a"
             ],
             [
              0.8888888888888888,
              "#fdca26"
             ],
             [
              1,
              "#f0f921"
             ]
            ],
            "type": "heatmapgl"
           }
          ],
          "histogram": [
           {
            "marker": {
             "pattern": {
              "fillmode": "overlay",
              "size": 10,
              "solidity": 0.2
             }
            },
            "type": "histogram"
           }
          ],
          "histogram2d": [
           {
            "colorbar": {
             "outlinewidth": 0,
             "ticks": ""
            },
            "colorscale": [
             [
              0,
              "#0d0887"
             ],
             [
              0.1111111111111111,
              "#46039f"
             ],
             [
              0.2222222222222222,
              "#7201a8"
             ],
             [
              0.3333333333333333,
              "#9c179e"
             ],
             [
              0.4444444444444444,
              "#bd3786"
             ],
             [
              0.5555555555555556,
              "#d8576b"
             ],
             [
              0.6666666666666666,
              "#ed7953"
             ],
             [
              0.7777777777777778,
              "#fb9f3a"
             ],
             [
              0.8888888888888888,
              "#fdca26"
             ],
             [
              1,
              "#f0f921"
             ]
            ],
            "type": "histogram2d"
           }
          ],
          "histogram2dcontour": [
           {
            "colorbar": {
             "outlinewidth": 0,
             "ticks": ""
            },
            "colorscale": [
             [
              0,
              "#0d0887"
             ],
             [
              0.1111111111111111,
              "#46039f"
             ],
             [
              0.2222222222222222,
              "#7201a8"
             ],
             [
              0.3333333333333333,
              "#9c179e"
             ],
             [
              0.4444444444444444,
              "#bd3786"
             ],
             [
              0.5555555555555556,
              "#d8576b"
             ],
             [
              0.6666666666666666,
              "#ed7953"
             ],
             [
              0.7777777777777778,
              "#fb9f3a"
             ],
             [
              0.8888888888888888,
              "#fdca26"
             ],
             [
              1,
              "#f0f921"
             ]
            ],
            "type": "histogram2dcontour"
           }
          ],
          "mesh3d": [
           {
            "colorbar": {
             "outlinewidth": 0,
             "ticks": ""
            },
            "type": "mesh3d"
           }
          ],
          "parcoords": [
           {
            "line": {
             "colorbar": {
              "outlinewidth": 0,
              "ticks": ""
             }
            },
            "type": "parcoords"
           }
          ],
          "pie": [
           {
            "automargin": true,
            "type": "pie"
           }
          ],
          "scatter": [
           {
            "fillpattern": {
             "fillmode": "overlay",
             "size": 10,
             "solidity": 0.2
            },
            "type": "scatter"
           }
          ],
          "scatter3d": [
           {
            "line": {
             "colorbar": {
              "outlinewidth": 0,
              "ticks": ""
             }
            },
            "marker": {
             "colorbar": {
              "outlinewidth": 0,
              "ticks": ""
             }
            },
            "type": "scatter3d"
           }
          ],
          "scattercarpet": [
           {
            "marker": {
             "colorbar": {
              "outlinewidth": 0,
              "ticks": ""
             }
            },
            "type": "scattercarpet"
           }
          ],
          "scattergeo": [
           {
            "marker": {
             "colorbar": {
              "outlinewidth": 0,
              "ticks": ""
             }
            },
            "type": "scattergeo"
           }
          ],
          "scattergl": [
           {
            "marker": {
             "colorbar": {
              "outlinewidth": 0,
              "ticks": ""
             }
            },
            "type": "scattergl"
           }
          ],
          "scattermapbox": [
           {
            "marker": {
             "colorbar": {
              "outlinewidth": 0,
              "ticks": ""
             }
            },
            "type": "scattermapbox"
           }
          ],
          "scatterpolar": [
           {
            "marker": {
             "colorbar": {
              "outlinewidth": 0,
              "ticks": ""
             }
            },
            "type": "scatterpolar"
           }
          ],
          "scatterpolargl": [
           {
            "marker": {
             "colorbar": {
              "outlinewidth": 0,
              "ticks": ""
             }
            },
            "type": "scatterpolargl"
           }
          ],
          "scatterternary": [
           {
            "marker": {
             "colorbar": {
              "outlinewidth": 0,
              "ticks": ""
             }
            },
            "type": "scatterternary"
           }
          ],
          "surface": [
           {
            "colorbar": {
             "outlinewidth": 0,
             "ticks": ""
            },
            "colorscale": [
             [
              0,
              "#0d0887"
             ],
             [
              0.1111111111111111,
              "#46039f"
             ],
             [
              0.2222222222222222,
              "#7201a8"
             ],
             [
              0.3333333333333333,
              "#9c179e"
             ],
             [
              0.4444444444444444,
              "#bd3786"
             ],
             [
              0.5555555555555556,
              "#d8576b"
             ],
             [
              0.6666666666666666,
              "#ed7953"
             ],
             [
              0.7777777777777778,
              "#fb9f3a"
             ],
             [
              0.8888888888888888,
              "#fdca26"
             ],
             [
              1,
              "#f0f921"
             ]
            ],
            "type": "surface"
           }
          ],
          "table": [
           {
            "cells": {
             "fill": {
              "color": "#EBF0F8"
             },
             "line": {
              "color": "white"
             }
            },
            "header": {
             "fill": {
              "color": "#C8D4E3"
             },
             "line": {
              "color": "white"
             }
            },
            "type": "table"
           }
          ]
         },
         "layout": {
          "annotationdefaults": {
           "arrowcolor": "#2a3f5f",
           "arrowhead": 0,
           "arrowwidth": 1
          },
          "autotypenumbers": "strict",
          "coloraxis": {
           "colorbar": {
            "outlinewidth": 0,
            "ticks": ""
           }
          },
          "colorscale": {
           "diverging": [
            [
             0,
             "#8e0152"
            ],
            [
             0.1,
             "#c51b7d"
            ],
            [
             0.2,
             "#de77ae"
            ],
            [
             0.3,
             "#f1b6da"
            ],
            [
             0.4,
             "#fde0ef"
            ],
            [
             0.5,
             "#f7f7f7"
            ],
            [
             0.6,
             "#e6f5d0"
            ],
            [
             0.7,
             "#b8e186"
            ],
            [
             0.8,
             "#7fbc41"
            ],
            [
             0.9,
             "#4d9221"
            ],
            [
             1,
             "#276419"
            ]
           ],
           "sequential": [
            [
             0,
             "#0d0887"
            ],
            [
             0.1111111111111111,
             "#46039f"
            ],
            [
             0.2222222222222222,
             "#7201a8"
            ],
            [
             0.3333333333333333,
             "#9c179e"
            ],
            [
             0.4444444444444444,
             "#bd3786"
            ],
            [
             0.5555555555555556,
             "#d8576b"
            ],
            [
             0.6666666666666666,
             "#ed7953"
            ],
            [
             0.7777777777777778,
             "#fb9f3a"
            ],
            [
             0.8888888888888888,
             "#fdca26"
            ],
            [
             1,
             "#f0f921"
            ]
           ],
           "sequentialminus": [
            [
             0,
             "#0d0887"
            ],
            [
             0.1111111111111111,
             "#46039f"
            ],
            [
             0.2222222222222222,
             "#7201a8"
            ],
            [
             0.3333333333333333,
             "#9c179e"
            ],
            [
             0.4444444444444444,
             "#bd3786"
            ],
            [
             0.5555555555555556,
             "#d8576b"
            ],
            [
             0.6666666666666666,
             "#ed7953"
            ],
            [
             0.7777777777777778,
             "#fb9f3a"
            ],
            [
             0.8888888888888888,
             "#fdca26"
            ],
            [
             1,
             "#f0f921"
            ]
           ]
          },
          "colorway": [
           "#636efa",
           "#EF553B",
           "#00cc96",
           "#ab63fa",
           "#FFA15A",
           "#19d3f3",
           "#FF6692",
           "#B6E880",
           "#FF97FF",
           "#FECB52"
          ],
          "font": {
           "color": "#2a3f5f"
          },
          "geo": {
           "bgcolor": "white",
           "lakecolor": "white",
           "landcolor": "#E5ECF6",
           "showlakes": true,
           "showland": true,
           "subunitcolor": "white"
          },
          "hoverlabel": {
           "align": "left"
          },
          "hovermode": "closest",
          "mapbox": {
           "style": "light"
          },
          "paper_bgcolor": "white",
          "plot_bgcolor": "#E5ECF6",
          "polar": {
           "angularaxis": {
            "gridcolor": "white",
            "linecolor": "white",
            "ticks": ""
           },
           "bgcolor": "#E5ECF6",
           "radialaxis": {
            "gridcolor": "white",
            "linecolor": "white",
            "ticks": ""
           }
          },
          "scene": {
           "xaxis": {
            "backgroundcolor": "#E5ECF6",
            "gridcolor": "white",
            "gridwidth": 2,
            "linecolor": "white",
            "showbackground": true,
            "ticks": "",
            "zerolinecolor": "white"
           },
           "yaxis": {
            "backgroundcolor": "#E5ECF6",
            "gridcolor": "white",
            "gridwidth": 2,
            "linecolor": "white",
            "showbackground": true,
            "ticks": "",
            "zerolinecolor": "white"
           },
           "zaxis": {
            "backgroundcolor": "#E5ECF6",
            "gridcolor": "white",
            "gridwidth": 2,
            "linecolor": "white",
            "showbackground": true,
            "ticks": "",
            "zerolinecolor": "white"
           }
          },
          "shapedefaults": {
           "line": {
            "color": "#2a3f5f"
           }
          },
          "ternary": {
           "aaxis": {
            "gridcolor": "white",
            "linecolor": "white",
            "ticks": ""
           },
           "baxis": {
            "gridcolor": "white",
            "linecolor": "white",
            "ticks": ""
           },
           "bgcolor": "#E5ECF6",
           "caxis": {
            "gridcolor": "white",
            "linecolor": "white",
            "ticks": ""
           }
          },
          "title": {
           "x": 0.05
          },
          "xaxis": {
           "automargin": true,
           "gridcolor": "white",
           "linecolor": "white",
           "ticks": "",
           "title": {
            "standoff": 15
           },
           "zerolinecolor": "white",
           "zerolinewidth": 2
          },
          "yaxis": {
           "automargin": true,
           "gridcolor": "white",
           "linecolor": "white",
           "ticks": "",
           "title": {
            "standoff": 15
           },
           "zerolinecolor": "white",
           "zerolinewidth": 2
          }
         }
        }
       }
      },
      "text/html": [
       "<div>                            <div id=\"7fe9ea21-0c5b-439f-823e-de4b538d8321\" class=\"plotly-graph-div\" style=\"height:525px; width:100%;\"></div>            <script type=\"text/javascript\">                require([\"plotly\"], function(Plotly) {                    window.PLOTLYENV=window.PLOTLYENV || {};                                    if (document.getElementById(\"7fe9ea21-0c5b-439f-823e-de4b538d8321\")) {                    Plotly.newPlot(                        \"7fe9ea21-0c5b-439f-823e-de4b538d8321\",                        [{\"hovertemplate\":\"CATEGORIE=Introduction\\u003cbr\\u003eLATITUDE=%{lat}\\u003cbr\\u003eLONGITUDE=%{lon}\\u003cextra\\u003e\\u003c\\u002fextra\\u003e\",\"lat\":[45.501877,45.483736,45.454577,45.458216,45.482569,45.546507,45.584789,45.547709,45.567939,45.436152,45.515419,45.490069,45.477708,45.540846,45.537054,45.511978,45.52199,45.438352,45.53058,45.605798,45.546379,45.519122,45.468791,45.415942,45.597981,45.509518,45.581831,45.51023,45.451684,45.570682,45.506906,45.503826,45.481995,45.532114,45.643226,45.634609,45.531463,45.483195,45.528486,45.61613,45.526114,45.501877,45.538284,45.476856,45.501437,45.521538,45.512794,45.580022,45.566902,45.554928,45.471827,45.585537,45.585537,45.579995,45.539251,45.467912,45.544414,45.449302,45.464621,45.598083,45.458786,45.553218,45.455547,45.613993,45.596266,45.545419,45.523449,45.447416,45.609561,45.569387,45.608358,45.585309,45.446785,45.573067,45.551576,45.522895],\"legendgroup\":\"Introduction\",\"lon\":[-73.57109,-73.721399,-73.85293,-73.87069,-73.565886,-73.58625,-73.580531,-73.585181,-73.590117,-73.688548,-73.561341,-73.585775,-73.670831,-73.584242,-73.569236,-73.549533,-73.632612,-73.81989,-73.639763,-73.631487,-73.562331,-73.685928,-73.666411,-73.617591,-73.519328,-73.55732,-73.538998,-73.561691,-73.641001,-73.551701,-73.68879,-73.561759,-73.630662,-73.647379,-73.497547,-73.499855,-73.718958,-73.566684,-73.550962,-73.616772,-73.553138,-73.57109,-73.624468,-73.588016,-73.570086,-73.562127,-73.566276,-73.544835,-73.553305,-73.538224,-73.626244,-73.586453,-73.586453,-73.540241,-73.609989,-73.610963,-73.639955,-73.636797,-73.785504,-73.565691,-73.596117,-73.587867,-73.588583,-73.620921,-73.637677,-73.627222,-73.601087,-73.61024,-73.611558,-73.640792,-73.615141,-73.510916,-73.750443,-73.649577,-73.533577,-73.580573],\"marker\":{\"color\":\"#636efa\"},\"mode\":\"markers\",\"name\":\"Introduction\",\"showlegend\":true,\"subplot\":\"mapbox\",\"type\":\"scattermapbox\"},{\"hovertemplate\":\"CATEGORIE=Vol dans \\u002f sur v\\u00e9hicule \\u00e0 moteur\\u003cbr\\u003eLATITUDE=%{lat}\\u003cbr\\u003eLONGITUDE=%{lon}\\u003cextra\\u003e\\u003c\\u002fextra\\u003e\",\"lat\":[45.561162,45.499014,45.509871,45.517247,45.554779,45.570517,45.503289,45.545344,45.489969,45.502617,45.463126,45.596022,45.494562,45.581422,45.603595,45.513949,45.596887,45.515457,45.500369,45.504886,45.667611],\"legendgroup\":\"Vol dans \\u002f sur v\\u00e9hicule \\u00e0 moteur\",\"lon\":[-73.580932,-73.555173,-73.563823,-73.577146,-73.546852,-73.628497,-73.563446,-73.599515,-73.75725,-73.574217,-73.574608,-73.604342,-73.574405,-73.646251,-73.620244,-73.568795,-73.607457,-73.558931,-73.559986,-73.56999,-73.494369],\"marker\":{\"color\":\"#EF553B\"},\"mode\":\"markers\",\"name\":\"Vol dans \\u002f sur v\\u00e9hicule \\u00e0 moteur\",\"showlegend\":true,\"subplot\":\"mapbox\",\"type\":\"scattermapbox\"},{\"hovertemplate\":\"CATEGORIE=Vol de v\\u00e9hicule \\u00e0 moteur\\u003cbr\\u003eLATITUDE=%{lat}\\u003cbr\\u003eLONGITUDE=%{lon}\\u003cextra\\u003e\\u003c\\u002fextra\\u003e\",\"lat\":[45.488176,45.452906,45.412811,45.44687,45.429638,45.494487,45.498115,45.492954,45.462264,45.435645,45.599714,45.406157,45.501203,45.501203,45.500235,45.498587,45.506977,45.496116,45.557199,45.463581,45.456239,45.549013,45.483753,45.539277,45.677468,45.5647,45.563824,45.514216,45.468386,45.4937,45.653093,45.476751,45.476751,45.568704,45.653175,45.531783,45.535168,45.445583,45.484048,45.506733,45.595359,45.511978,45.539964,45.552115,45.55222,45.496116,45.611709,45.607716,45.517682,45.51895,45.595145,45.503355,45.466019,45.573634,45.539512,45.449302,45.560059,45.460294,45.547531,45.574855,45.604557,45.495881,45.501723,45.555667,45.447917,45.426755,45.513949,45.532923,45.462079,45.431494,45.504446,45.445395,45.592325,45.436152,45.603224,45.452723,45.571358,45.46081,45.519366,45.489283,45.52822,45.47762,45.579521,45.493417,45.479889,45.456,45.581314,45.503431,45.578379,45.663551,45.520741,45.421878,45.458635,45.486637,45.547185,45.567377,45.455379,45.576815,45.530975,45.536027,45.497847,45.574301,45.568154,45.479102,45.521885],\"legendgroup\":\"Vol de v\\u00e9hicule \\u00e0 moteur\",\"lon\":[-73.776883,-73.752229,-73.901991,-73.773652,-73.624677,-73.556569,-73.56724,-73.575742,-73.722671,-73.811294,-73.57842,-73.931315,-73.562063,-73.562063,-73.573378,-73.871376,-73.572107,-73.655396,-73.569679,-73.651109,-73.747285,-73.644731,-73.586511,-73.600218,-73.49677,-73.608744,-73.583451,-73.577045,-73.855841,-73.818997,-73.574714,-73.564645,-73.564645,-73.625962,-73.571001,-73.597787,-73.572449,-73.645069,-73.557942,-73.819984,-73.535795,-73.549533,-73.670147,-73.570077,-73.561537,-73.655396,-73.605342,-73.513926,-73.576731,-73.566545,-73.556266,-73.579486,-73.820916,-73.649093,-73.623728,-73.636797,-73.593283,-73.796778,-73.575251,-73.657369,-73.559837,-73.573135,-73.561632,-73.606676,-73.649448,-73.628933,-73.568795,-73.66736,-73.592468,-73.847945,-73.634049,-73.756293,-73.629645,-73.688548,-73.539045,-73.736393,-73.527989,-73.592569,-73.551799,-73.631457,-73.637541,-73.577771,-73.532027,-73.837451,-73.553129,-73.600468,-73.604444,-73.556543,-73.536464,-73.561384,-73.575872,-73.643185,-73.588304,-73.631079,-73.633505,-73.598331,-73.770273,-73.567431,-73.643116,-73.551097,-73.88259,-73.644577,-73.64583,-73.633324,-73.591883],\"marker\":{\"color\":\"#00cc96\"},\"mode\":\"markers\",\"name\":\"Vol de v\\u00e9hicule \\u00e0 moteur\",\"showlegend\":true,\"subplot\":\"mapbox\",\"type\":\"scattermapbox\"},{\"hovertemplate\":\"CATEGORIE=M\\u00e9fait\\u003cbr\\u003eLATITUDE=%{lat}\\u003cbr\\u003eLONGITUDE=%{lon}\\u003cextra\\u003e\\u003c\\u002fextra\\u003e\",\"lat\":[45.477362,45.50435,45.566963,45.591819,45.523378,45.484798,45.507746,45.54419,45.5098,45.433431,45.498784,45.571358,45.525462,45.446721,45.504661,45.517513,45.649716,45.478452,45.560086,45.458437,45.505244,45.553785,45.567285,45.505788,45.644512,45.454047,45.503151,45.49882,45.529664,45.50284,45.533421,45.447056,45.458903,45.533386,45.476751,45.512872,45.543159,45.530835,45.585041,45.575309,45.462097,45.518394],\"legendgroup\":\"M\\u00e9fait\",\"lon\":[-73.586436,-73.554507,-73.553475,-73.605375,-73.623268,-73.57617,-73.562649,-73.573365,-73.675563,-73.5971,-73.660701,-73.527989,-73.551756,-73.602425,-73.571081,-73.696587,-73.582421,-73.568876,-73.543406,-73.567415,-73.561989,-73.63127,-73.643745,-73.55446,-73.585094,-73.594344,-73.777031,-73.564719,-73.622681,-73.560706,-73.573537,-73.604495,-73.809037,-73.652947,-73.564645,-73.629187,-73.596666,-73.551099,-73.6157,-73.547656,-73.571425,-73.612845],\"marker\":{\"color\":\"#ab63fa\"},\"mode\":\"markers\",\"name\":\"M\\u00e9fait\",\"showlegend\":true,\"subplot\":\"mapbox\",\"type\":\"scattermapbox\"}],                        {\"template\":{\"data\":{\"histogram2dcontour\":[{\"type\":\"histogram2dcontour\",\"colorbar\":{\"outlinewidth\":0,\"ticks\":\"\"},\"colorscale\":[[0.0,\"#0d0887\"],[0.1111111111111111,\"#46039f\"],[0.2222222222222222,\"#7201a8\"],[0.3333333333333333,\"#9c179e\"],[0.4444444444444444,\"#bd3786\"],[0.5555555555555556,\"#d8576b\"],[0.6666666666666666,\"#ed7953\"],[0.7777777777777778,\"#fb9f3a\"],[0.8888888888888888,\"#fdca26\"],[1.0,\"#f0f921\"]]}],\"choropleth\":[{\"type\":\"choropleth\",\"colorbar\":{\"outlinewidth\":0,\"ticks\":\"\"}}],\"histogram2d\":[{\"type\":\"histogram2d\",\"colorbar\":{\"outlinewidth\":0,\"ticks\":\"\"},\"colorscale\":[[0.0,\"#0d0887\"],[0.1111111111111111,\"#46039f\"],[0.2222222222222222,\"#7201a8\"],[0.3333333333333333,\"#9c179e\"],[0.4444444444444444,\"#bd3786\"],[0.5555555555555556,\"#d8576b\"],[0.6666666666666666,\"#ed7953\"],[0.7777777777777778,\"#fb9f3a\"],[0.8888888888888888,\"#fdca26\"],[1.0,\"#f0f921\"]]}],\"heatmap\":[{\"type\":\"heatmap\",\"colorbar\":{\"outlinewidth\":0,\"ticks\":\"\"},\"colorscale\":[[0.0,\"#0d0887\"],[0.1111111111111111,\"#46039f\"],[0.2222222222222222,\"#7201a8\"],[0.3333333333333333,\"#9c179e\"],[0.4444444444444444,\"#bd3786\"],[0.5555555555555556,\"#d8576b\"],[0.6666666666666666,\"#ed7953\"],[0.7777777777777778,\"#fb9f3a\"],[0.8888888888888888,\"#fdca26\"],[1.0,\"#f0f921\"]]}],\"heatmapgl\":[{\"type\":\"heatmapgl\",\"colorbar\":{\"outlinewidth\":0,\"ticks\":\"\"},\"colorscale\":[[0.0,\"#0d0887\"],[0.1111111111111111,\"#46039f\"],[0.2222222222222222,\"#7201a8\"],[0.3333333333333333,\"#9c179e\"],[0.4444444444444444,\"#bd3786\"],[0.5555555555555556,\"#d8576b\"],[0.6666666666666666,\"#ed7953\"],[0.7777777777777778,\"#fb9f3a\"],[0.8888888888888888,\"#fdca26\"],[1.0,\"#f0f921\"]]}],\"contourcarpet\":[{\"type\":\"contourcarpet\",\"colorbar\":{\"outlinewidth\":0,\"ticks\":\"\"}}],\"contour\":[{\"type\":\"contour\",\"colorbar\":{\"outlinewidth\":0,\"ticks\":\"\"},\"colorscale\":[[0.0,\"#0d0887\"],[0.1111111111111111,\"#46039f\"],[0.2222222222222222,\"#7201a8\"],[0.3333333333333333,\"#9c179e\"],[0.4444444444444444,\"#bd3786\"],[0.5555555555555556,\"#d8576b\"],[0.6666666666666666,\"#ed7953\"],[0.7777777777777778,\"#fb9f3a\"],[0.8888888888888888,\"#fdca26\"],[1.0,\"#f0f921\"]]}],\"surface\":[{\"type\":\"surface\",\"colorbar\":{\"outlinewidth\":0,\"ticks\":\"\"},\"colorscale\":[[0.0,\"#0d0887\"],[0.1111111111111111,\"#46039f\"],[0.2222222222222222,\"#7201a8\"],[0.3333333333333333,\"#9c179e\"],[0.4444444444444444,\"#bd3786\"],[0.5555555555555556,\"#d8576b\"],[0.6666666666666666,\"#ed7953\"],[0.7777777777777778,\"#fb9f3a\"],[0.8888888888888888,\"#fdca26\"],[1.0,\"#f0f921\"]]}],\"mesh3d\":[{\"type\":\"mesh3d\",\"colorbar\":{\"outlinewidth\":0,\"ticks\":\"\"}}],\"scatter\":[{\"fillpattern\":{\"fillmode\":\"overlay\",\"size\":10,\"solidity\":0.2},\"type\":\"scatter\"}],\"parcoords\":[{\"type\":\"parcoords\",\"line\":{\"colorbar\":{\"outlinewidth\":0,\"ticks\":\"\"}}}],\"scatterpolargl\":[{\"type\":\"scatterpolargl\",\"marker\":{\"colorbar\":{\"outlinewidth\":0,\"ticks\":\"\"}}}],\"bar\":[{\"error_x\":{\"color\":\"#2a3f5f\"},\"error_y\":{\"color\":\"#2a3f5f\"},\"marker\":{\"line\":{\"color\":\"#E5ECF6\",\"width\":0.5},\"pattern\":{\"fillmode\":\"overlay\",\"size\":10,\"solidity\":0.2}},\"type\":\"bar\"}],\"scattergeo\":[{\"type\":\"scattergeo\",\"marker\":{\"colorbar\":{\"outlinewidth\":0,\"ticks\":\"\"}}}],\"scatterpolar\":[{\"type\":\"scatterpolar\",\"marker\":{\"colorbar\":{\"outlinewidth\":0,\"ticks\":\"\"}}}],\"histogram\":[{\"marker\":{\"pattern\":{\"fillmode\":\"overlay\",\"size\":10,\"solidity\":0.2}},\"type\":\"histogram\"}],\"scattergl\":[{\"type\":\"scattergl\",\"marker\":{\"colorbar\":{\"outlinewidth\":0,\"ticks\":\"\"}}}],\"scatter3d\":[{\"type\":\"scatter3d\",\"line\":{\"colorbar\":{\"outlinewidth\":0,\"ticks\":\"\"}},\"marker\":{\"colorbar\":{\"outlinewidth\":0,\"ticks\":\"\"}}}],\"scattermapbox\":[{\"type\":\"scattermapbox\",\"marker\":{\"colorbar\":{\"outlinewidth\":0,\"ticks\":\"\"}}}],\"scatterternary\":[{\"type\":\"scatterternary\",\"marker\":{\"colorbar\":{\"outlinewidth\":0,\"ticks\":\"\"}}}],\"scattercarpet\":[{\"type\":\"scattercarpet\",\"marker\":{\"colorbar\":{\"outlinewidth\":0,\"ticks\":\"\"}}}],\"carpet\":[{\"aaxis\":{\"endlinecolor\":\"#2a3f5f\",\"gridcolor\":\"white\",\"linecolor\":\"white\",\"minorgridcolor\":\"white\",\"startlinecolor\":\"#2a3f5f\"},\"baxis\":{\"endlinecolor\":\"#2a3f5f\",\"gridcolor\":\"white\",\"linecolor\":\"white\",\"minorgridcolor\":\"white\",\"startlinecolor\":\"#2a3f5f\"},\"type\":\"carpet\"}],\"table\":[{\"cells\":{\"fill\":{\"color\":\"#EBF0F8\"},\"line\":{\"color\":\"white\"}},\"header\":{\"fill\":{\"color\":\"#C8D4E3\"},\"line\":{\"color\":\"white\"}},\"type\":\"table\"}],\"barpolar\":[{\"marker\":{\"line\":{\"color\":\"#E5ECF6\",\"width\":0.5},\"pattern\":{\"fillmode\":\"overlay\",\"size\":10,\"solidity\":0.2}},\"type\":\"barpolar\"}],\"pie\":[{\"automargin\":true,\"type\":\"pie\"}]},\"layout\":{\"autotypenumbers\":\"strict\",\"colorway\":[\"#636efa\",\"#EF553B\",\"#00cc96\",\"#ab63fa\",\"#FFA15A\",\"#19d3f3\",\"#FF6692\",\"#B6E880\",\"#FF97FF\",\"#FECB52\"],\"font\":{\"color\":\"#2a3f5f\"},\"hovermode\":\"closest\",\"hoverlabel\":{\"align\":\"left\"},\"paper_bgcolor\":\"white\",\"plot_bgcolor\":\"#E5ECF6\",\"polar\":{\"bgcolor\":\"#E5ECF6\",\"angularaxis\":{\"gridcolor\":\"white\",\"linecolor\":\"white\",\"ticks\":\"\"},\"radialaxis\":{\"gridcolor\":\"white\",\"linecolor\":\"white\",\"ticks\":\"\"}},\"ternary\":{\"bgcolor\":\"#E5ECF6\",\"aaxis\":{\"gridcolor\":\"white\",\"linecolor\":\"white\",\"ticks\":\"\"},\"baxis\":{\"gridcolor\":\"white\",\"linecolor\":\"white\",\"ticks\":\"\"},\"caxis\":{\"gridcolor\":\"white\",\"linecolor\":\"white\",\"ticks\":\"\"}},\"coloraxis\":{\"colorbar\":{\"outlinewidth\":0,\"ticks\":\"\"}},\"colorscale\":{\"sequential\":[[0.0,\"#0d0887\"],[0.1111111111111111,\"#46039f\"],[0.2222222222222222,\"#7201a8\"],[0.3333333333333333,\"#9c179e\"],[0.4444444444444444,\"#bd3786\"],[0.5555555555555556,\"#d8576b\"],[0.6666666666666666,\"#ed7953\"],[0.7777777777777778,\"#fb9f3a\"],[0.8888888888888888,\"#fdca26\"],[1.0,\"#f0f921\"]],\"sequentialminus\":[[0.0,\"#0d0887\"],[0.1111111111111111,\"#46039f\"],[0.2222222222222222,\"#7201a8\"],[0.3333333333333333,\"#9c179e\"],[0.4444444444444444,\"#bd3786\"],[0.5555555555555556,\"#d8576b\"],[0.6666666666666666,\"#ed7953\"],[0.7777777777777778,\"#fb9f3a\"],[0.8888888888888888,\"#fdca26\"],[1.0,\"#f0f921\"]],\"diverging\":[[0,\"#8e0152\"],[0.1,\"#c51b7d\"],[0.2,\"#de77ae\"],[0.3,\"#f1b6da\"],[0.4,\"#fde0ef\"],[0.5,\"#f7f7f7\"],[0.6,\"#e6f5d0\"],[0.7,\"#b8e186\"],[0.8,\"#7fbc41\"],[0.9,\"#4d9221\"],[1,\"#276419\"]]},\"xaxis\":{\"gridcolor\":\"white\",\"linecolor\":\"white\",\"ticks\":\"\",\"title\":{\"standoff\":15},\"zerolinecolor\":\"white\",\"automargin\":true,\"zerolinewidth\":2},\"yaxis\":{\"gridcolor\":\"white\",\"linecolor\":\"white\",\"ticks\":\"\",\"title\":{\"standoff\":15},\"zerolinecolor\":\"white\",\"automargin\":true,\"zerolinewidth\":2},\"scene\":{\"xaxis\":{\"backgroundcolor\":\"#E5ECF6\",\"gridcolor\":\"white\",\"linecolor\":\"white\",\"showbackground\":true,\"ticks\":\"\",\"zerolinecolor\":\"white\",\"gridwidth\":2},\"yaxis\":{\"backgroundcolor\":\"#E5ECF6\",\"gridcolor\":\"white\",\"linecolor\":\"white\",\"showbackground\":true,\"ticks\":\"\",\"zerolinecolor\":\"white\",\"gridwidth\":2},\"zaxis\":{\"backgroundcolor\":\"#E5ECF6\",\"gridcolor\":\"white\",\"linecolor\":\"white\",\"showbackground\":true,\"ticks\":\"\",\"zerolinecolor\":\"white\",\"gridwidth\":2}},\"shapedefaults\":{\"line\":{\"color\":\"#2a3f5f\"}},\"annotationdefaults\":{\"arrowcolor\":\"#2a3f5f\",\"arrowhead\":0,\"arrowwidth\":1},\"geo\":{\"bgcolor\":\"white\",\"landcolor\":\"#E5ECF6\",\"subunitcolor\":\"white\",\"showland\":true,\"showlakes\":true,\"lakecolor\":\"white\"},\"title\":{\"x\":0.05},\"mapbox\":{\"style\":\"light\"}}},\"mapbox\":{\"domain\":{\"x\":[0.0,1.0],\"y\":[0.0,1.0]},\"center\":{\"lat\":45.52204239754098,\"lon\":-73.61693645081967},\"accesstoken\":\"pk.eyJ1IjoibW9ua3oxMSIsImEiOiJja3ZjcGpkcmNhemljMnBuemllb294Z20yIn0.LFHcV2_PcE_wc5ttNnMM1g\",\"zoom\":10},\"legend\":{\"title\":{\"text\":\"CATEGORIE\"},\"tracegroupgap\":0},\"margin\":{\"t\":60}},                        {\"responsive\": true}                    ).then(function(){\n",
       "                            \n",
       "var gd = document.getElementById('7fe9ea21-0c5b-439f-823e-de4b538d8321');\n",
       "var x = new MutationObserver(function (mutations, observer) {{\n",
       "        var display = window.getComputedStyle(gd).display;\n",
       "        if (!display || display === 'none') {{\n",
       "            console.log([gd, 'removed!']);\n",
       "            Plotly.purge(gd);\n",
       "            observer.disconnect();\n",
       "        }}\n",
       "}});\n",
       "\n",
       "// Listen for the removal of the full notebook cells\n",
       "var notebookContainer = gd.closest('#notebook-container');\n",
       "if (notebookContainer) {{\n",
       "    x.observe(notebookContainer, {childList: true});\n",
       "}}\n",
       "\n",
       "// Listen for the clearing of the current output cell\n",
       "var outputEl = gd.closest('.output');\n",
       "if (outputEl) {{\n",
       "    x.observe(outputEl, {childList: true});\n",
       "}}\n",
       "\n",
       "                        })                };                });            </script>        </div>"
      ]
     },
     "metadata": {},
     "output_type": "display_data"
    }
   ],
   "source": [
    "my_map = generate_map(year=2024,\n",
    "                      categories=categories,\n",
    "                      times_of_day = ['nuit'],)\n",
    "my_map"
   ]
  }
 ],
 "metadata": {
  "kernelspec": {
   "display_name": "mchacks",
   "language": "python",
   "name": "python3"
  },
  "language_info": {
   "codemirror_mode": {
    "name": "ipython",
    "version": 3
   },
   "file_extension": ".py",
   "mimetype": "text/x-python",
   "name": "python",
   "nbconvert_exporter": "python",
   "pygments_lexer": "ipython3",
   "version": "3.12.1"
  }
 },
 "nbformat": 4,
 "nbformat_minor": 2
}
